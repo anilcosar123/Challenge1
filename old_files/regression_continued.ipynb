{
 "cells": [
  {
   "cell_type": "code",
   "execution_count": 4,
   "id": "0a14e1e0",
   "metadata": {},
   "outputs": [
    {
     "data": {
      "text/html": [
       "<div>\n",
       "<style scoped>\n",
       "    .dataframe tbody tr th:only-of-type {\n",
       "        vertical-align: middle;\n",
       "    }\n",
       "\n",
       "    .dataframe tbody tr th {\n",
       "        vertical-align: top;\n",
       "    }\n",
       "\n",
       "    .dataframe thead th {\n",
       "        text-align: right;\n",
       "    }\n",
       "</style>\n",
       "<table border=\"1\" class=\"dataframe\">\n",
       "  <thead>\n",
       "    <tr style=\"text-align: right;\">\n",
       "      <th></th>\n",
       "      <th>Date</th>\n",
       "      <th>Meal</th>\n",
       "      <th>Calories</th>\n",
       "      <th>Fat (g)</th>\n",
       "      <th>Saturated Fat</th>\n",
       "      <th>Polyunsaturated Fat</th>\n",
       "      <th>Monounsaturated Fat</th>\n",
       "      <th>Trans Fat</th>\n",
       "      <th>Cholesterol</th>\n",
       "      <th>Sodium (mg)</th>\n",
       "      <th>Potassium</th>\n",
       "      <th>Carbohydrates (g)</th>\n",
       "      <th>Fiber</th>\n",
       "      <th>Sugar</th>\n",
       "      <th>Protein (g)</th>\n",
       "      <th>Vitamin A</th>\n",
       "      <th>Vitamin C</th>\n",
       "      <th>Calcium</th>\n",
       "      <th>Iron</th>\n",
       "      <th>Note</th>\n",
       "    </tr>\n",
       "  </thead>\n",
       "  <tbody>\n",
       "    <tr>\n",
       "      <th>0</th>\n",
       "      <td>2023-09-20</td>\n",
       "      <td>Breakfast</td>\n",
       "      <td>421.5</td>\n",
       "      <td>13.7</td>\n",
       "      <td>2.7</td>\n",
       "      <td>0.1</td>\n",
       "      <td>0.0</td>\n",
       "      <td>0.0</td>\n",
       "      <td>0.0</td>\n",
       "      <td>38.3</td>\n",
       "      <td>422.4</td>\n",
       "      <td>62.0</td>\n",
       "      <td>5.4</td>\n",
       "      <td>20.9</td>\n",
       "      <td>16.5</td>\n",
       "      <td>5.0</td>\n",
       "      <td>17.1</td>\n",
       "      <td>0.6</td>\n",
       "      <td>1.7</td>\n",
       "      <td>NaN</td>\n",
       "    </tr>\n",
       "    <tr>\n",
       "      <th>1</th>\n",
       "      <td>2023-09-20</td>\n",
       "      <td>Dinner</td>\n",
       "      <td>767.0</td>\n",
       "      <td>27.4</td>\n",
       "      <td>0.0</td>\n",
       "      <td>0.0</td>\n",
       "      <td>0.0</td>\n",
       "      <td>0.0</td>\n",
       "      <td>0.0</td>\n",
       "      <td>0.0</td>\n",
       "      <td>0.0</td>\n",
       "      <td>79.6</td>\n",
       "      <td>0.0</td>\n",
       "      <td>0.0</td>\n",
       "      <td>50.6</td>\n",
       "      <td>0.0</td>\n",
       "      <td>0.0</td>\n",
       "      <td>0.0</td>\n",
       "      <td>0.0</td>\n",
       "      <td>NaN</td>\n",
       "    </tr>\n",
       "    <tr>\n",
       "      <th>2</th>\n",
       "      <td>2023-09-20</td>\n",
       "      <td>Lunch</td>\n",
       "      <td>1183.0</td>\n",
       "      <td>54.6</td>\n",
       "      <td>5.4</td>\n",
       "      <td>11.0</td>\n",
       "      <td>0.0</td>\n",
       "      <td>0.0</td>\n",
       "      <td>0.0</td>\n",
       "      <td>0.6</td>\n",
       "      <td>0.0</td>\n",
       "      <td>129.6</td>\n",
       "      <td>12.8</td>\n",
       "      <td>13.5</td>\n",
       "      <td>47.8</td>\n",
       "      <td>0.0</td>\n",
       "      <td>0.0</td>\n",
       "      <td>0.0</td>\n",
       "      <td>0.0</td>\n",
       "      <td>NaN</td>\n",
       "    </tr>\n",
       "    <tr>\n",
       "      <th>3</th>\n",
       "      <td>2023-09-20</td>\n",
       "      <td>Snacks</td>\n",
       "      <td>1142.8</td>\n",
       "      <td>64.5</td>\n",
       "      <td>12.0</td>\n",
       "      <td>0.0</td>\n",
       "      <td>0.0</td>\n",
       "      <td>0.3</td>\n",
       "      <td>12.2</td>\n",
       "      <td>128.0</td>\n",
       "      <td>684.4</td>\n",
       "      <td>64.1</td>\n",
       "      <td>6.6</td>\n",
       "      <td>17.5</td>\n",
       "      <td>84.3</td>\n",
       "      <td>0.0</td>\n",
       "      <td>116.2</td>\n",
       "      <td>290.0</td>\n",
       "      <td>15.1</td>\n",
       "      <td>NaN</td>\n",
       "    </tr>\n",
       "    <tr>\n",
       "      <th>4</th>\n",
       "      <td>2023-09-21</td>\n",
       "      <td>Breakfast</td>\n",
       "      <td>374.5</td>\n",
       "      <td>12.4</td>\n",
       "      <td>2.0</td>\n",
       "      <td>0.0</td>\n",
       "      <td>0.0</td>\n",
       "      <td>0.0</td>\n",
       "      <td>0.0</td>\n",
       "      <td>36.8</td>\n",
       "      <td>0.0</td>\n",
       "      <td>55.2</td>\n",
       "      <td>3.9</td>\n",
       "      <td>6.0</td>\n",
       "      <td>14.3</td>\n",
       "      <td>0.0</td>\n",
       "      <td>0.0</td>\n",
       "      <td>0.0</td>\n",
       "      <td>0.0</td>\n",
       "      <td>NaN</td>\n",
       "    </tr>\n",
       "  </tbody>\n",
       "</table>\n",
       "</div>"
      ],
      "text/plain": [
       "         Date       Meal  Calories  Fat (g)  Saturated Fat  \\\n",
       "0  2023-09-20  Breakfast     421.5     13.7            2.7   \n",
       "1  2023-09-20     Dinner     767.0     27.4            0.0   \n",
       "2  2023-09-20      Lunch    1183.0     54.6            5.4   \n",
       "3  2023-09-20     Snacks    1142.8     64.5           12.0   \n",
       "4  2023-09-21  Breakfast     374.5     12.4            2.0   \n",
       "\n",
       "   Polyunsaturated Fat  Monounsaturated Fat  Trans Fat  Cholesterol  \\\n",
       "0                  0.1                  0.0        0.0          0.0   \n",
       "1                  0.0                  0.0        0.0          0.0   \n",
       "2                 11.0                  0.0        0.0          0.0   \n",
       "3                  0.0                  0.0        0.3         12.2   \n",
       "4                  0.0                  0.0        0.0          0.0   \n",
       "\n",
       "   Sodium (mg)  Potassium  Carbohydrates (g)  Fiber  Sugar  Protein (g)  \\\n",
       "0         38.3      422.4               62.0    5.4   20.9         16.5   \n",
       "1          0.0        0.0               79.6    0.0    0.0         50.6   \n",
       "2          0.6        0.0              129.6   12.8   13.5         47.8   \n",
       "3        128.0      684.4               64.1    6.6   17.5         84.3   \n",
       "4         36.8        0.0               55.2    3.9    6.0         14.3   \n",
       "\n",
       "   Vitamin A  Vitamin C  Calcium  Iron  Note  \n",
       "0        5.0       17.1      0.6   1.7   NaN  \n",
       "1        0.0        0.0      0.0   0.0   NaN  \n",
       "2        0.0        0.0      0.0   0.0   NaN  \n",
       "3        0.0      116.2    290.0  15.1   NaN  \n",
       "4        0.0        0.0      0.0   0.0   NaN  "
      ]
     },
     "execution_count": 4,
     "metadata": {},
     "output_type": "execute_result"
    }
   ],
   "source": [
    "import pandas as pd\n",
    "import numpy as np\n",
    "import matplotlib.pyplot as plt\n",
    "from scipy.signal import butter, filtfilt, find_peaks\n",
    "file_path = \"/Users/anilp/Downloads/Nutrition-Summary-2023-09-20-to-2023-09-27.csv\"\n",
    "df = pd.read_csv('/Users/anilp/Downloads/Nutrition-Summary-2023-09-20-to-2023-09-27.csv')\n",
    "df.head(5)"
   ]
  },
  {
   "cell_type": "code",
   "execution_count": 6,
   "id": "32592a42",
   "metadata": {},
   "outputs": [],
   "source": [
    "calories = df['Calories']"
   ]
  },
  {
   "cell_type": "code",
   "execution_count": 7,
   "id": "b1fc1742",
   "metadata": {},
   "outputs": [
    {
     "data": {
      "text/plain": [
       "0      421.5\n",
       "1      767.0\n",
       "2     1183.0\n",
       "3     1142.8\n",
       "4      374.5\n",
       "5      864.0\n",
       "6      909.5\n",
       "7      990.8\n",
       "8      600.4\n",
       "9      950.0\n",
       "10     614.5\n",
       "11     905.3\n",
       "12     701.0\n",
       "13    1000.0\n",
       "14    1138.3\n",
       "15     590.0\n",
       "16     790.0\n",
       "17     860.0\n",
       "18     888.1\n",
       "19     576.9\n",
       "20     462.3\n",
       "21    1095.0\n",
       "22     688.0\n",
       "23    1057.8\n",
       "24     445.0\n",
       "25     842.0\n",
       "26     321.0\n",
       "27    1131.2\n",
       "28     124.0\n",
       "Name: Calories, dtype: float64"
      ]
     },
     "execution_count": 7,
     "metadata": {},
     "output_type": "execute_result"
    }
   ],
   "source": [
    "calories"
   ]
  },
  {
   "cell_type": "code",
   "execution_count": 5,
   "id": "72351c05",
   "metadata": {},
   "outputs": [],
   "source": [
    "fat = df['Fat (g)']"
   ]
  },
  {
   "cell_type": "code",
   "execution_count": 6,
   "id": "0ef6a7c9",
   "metadata": {},
   "outputs": [
    {
     "data": {
      "text/plain": [
       "0     13.7\n",
       "1     27.4\n",
       "2     54.6\n",
       "3     64.5\n",
       "4     12.4\n",
       "5     39.1\n",
       "6     45.9\n",
       "7     56.4\n",
       "8     15.6\n",
       "9     51.7\n",
       "10    30.8\n",
       "11    32.3\n",
       "12    27.4\n",
       "13    20.0\n",
       "14    14.3\n",
       "15     0.0\n",
       "16    33.7\n",
       "17    50.0\n",
       "18    24.4\n",
       "19    22.7\n",
       "20    18.9\n",
       "21    64.3\n",
       "22    12.4\n",
       "23    38.1\n",
       "24    11.3\n",
       "25    37.0\n",
       "26    10.9\n",
       "27    40.9\n",
       "28     0.4\n",
       "Name: Fat (g), dtype: float64"
      ]
     },
     "execution_count": 6,
     "metadata": {},
     "output_type": "execute_result"
    }
   ],
   "source": [
    "fat"
   ]
  },
  {
   "cell_type": "code",
   "execution_count": 27,
   "id": "03128524",
   "metadata": {},
   "outputs": [
    {
     "data": {
      "image/png": "[encoded data removed]",
      "text/plain": [
       "<Figure size 640x480 with 1 Axes>"
      ]
     },
     "metadata": {},
     "output_type": "display_data"
    }
   ],
   "source": [
    "plt.scatter(calories,fat, c='red')\n",
    "plt.show()"
   ]
  },
  {
   "cell_type": "code",
   "execution_count": 35,
   "id": "ff13025e",
   "metadata": {},
   "outputs": [],
   "source": [
    "from sklearn import linear_model\n",
    "from sklearn.metrics import mean_squared_error,r2_score,mean_absolute_error"
   ]
  },
  {
   "cell_type": "code",
   "execution_count": 30,
   "id": "4c656c5d",
   "metadata": {},
   "outputs": [],
   "source": [
    "regr = linear_model.LinearRegression()"
   ]
  },
  {
   "cell_type": "code",
   "execution_count": 32,
   "id": "1259ddc3",
   "metadata": {},
   "outputs": [
    {
     "data": {
      "text/html": [
       "<style>#sk-container-id-1 {color: black;}#sk-container-id-1 pre{padding: 0;}#sk-container-id-1 div.sk-toggleable {background-color: white;}#sk-container-id-1 label.sk-toggleable__label {cursor: pointer;display: block;width: 100%;margin-bottom: 0;padding: 0.3em;box-sizing: border-box;text-align: center;}#sk-container-id-1 label.sk-toggleable__label-arrow:before {content: \"▸\";float: left;margin-right: 0.25em;color: #696969;}#sk-container-id-1 label.sk-toggleable__label-arrow:hover:before {color: black;}#sk-container-id-1 div.sk-estimator:hover label.sk-toggleable__label-arrow:before {color: black;}#sk-container-id-1 div.sk-toggleable__content {max-height: 0;max-width: 0;overflow: hidden;text-align: left;background-color: #f0f8ff;}#sk-container-id-1 div.sk-toggleable__content pre {margin: 0.2em;color: black;border-radius: 0.25em;background-color: #f0f8ff;}#sk-container-id-1 input.sk-toggleable__control:checked~div.sk-toggleable__content {max-height: 200px;max-width: 100%;overflow: auto;}#sk-container-id-1 input.sk-toggleable__control:checked~label.sk-toggleable__label-arrow:before {content: \"▾\";}#sk-container-id-1 div.sk-estimator input.sk-toggleable__control:checked~label.sk-toggleable__label {background-color: #d4ebff;}#sk-container-id-1 div.sk-label input.sk-toggleable__control:checked~label.sk-toggleable__label {background-color: #d4ebff;}#sk-container-id-1 input.sk-hidden--visually {border: 0;clip: rect(1px 1px 1px 1px);clip: rect(1px, 1px, 1px, 1px);height: 1px;margin: -1px;overflow: hidden;padding: 0;position: absolute;width: 1px;}#sk-container-id-1 div.sk-estimator {font-family: monospace;background-color: #f0f8ff;border: 1px dotted black;border-radius: 0.25em;box-sizing: border-box;margin-bottom: 0.5em;}#sk-container-id-1 div.sk-estimator:hover {background-color: #d4ebff;}#sk-container-id-1 div.sk-parallel-item::after {content: \"\";width: 100%;border-bottom: 1px solid gray;flex-grow: 1;}#sk-container-id-1 div.sk-label:hover label.sk-toggleable__label {background-color: #d4ebff;}#sk-container-id-1 div.sk-serial::before {content: \"\";position: absolute;border-left: 1px solid gray;box-sizing: border-box;top: 0;bottom: 0;left: 50%;z-index: 0;}#sk-container-id-1 div.sk-serial {display: flex;flex-direction: column;align-items: center;background-color: white;padding-right: 0.2em;padding-left: 0.2em;position: relative;}#sk-container-id-1 div.sk-item {position: relative;z-index: 1;}#sk-container-id-1 div.sk-parallel {display: flex;align-items: stretch;justify-content: center;background-color: white;position: relative;}#sk-container-id-1 div.sk-item::before, #sk-container-id-1 div.sk-parallel-item::before {content: \"\";position: absolute;border-left: 1px solid gray;box-sizing: border-box;top: 0;bottom: 0;left: 50%;z-index: -1;}#sk-container-id-1 div.sk-parallel-item {display: flex;flex-direction: column;z-index: 1;position: relative;background-color: white;}#sk-container-id-1 div.sk-parallel-item:first-child::after {align-self: flex-end;width: 50%;}#sk-container-id-1 div.sk-parallel-item:last-child::after {align-self: flex-start;width: 50%;}#sk-container-id-1 div.sk-parallel-item:only-child::after {width: 0;}#sk-container-id-1 div.sk-dashed-wrapped {border: 1px dashed gray;margin: 0 0.4em 0.5em 0.4em;box-sizing: border-box;padding-bottom: 0.4em;background-color: white;}#sk-container-id-1 div.sk-label label {font-family: monospace;font-weight: bold;display: inline-block;line-height: 1.2em;}#sk-container-id-1 div.sk-label-container {text-align: center;}#sk-container-id-1 div.sk-container {/* jupyter's `normalize.less` sets `[hidden] { display: none; }` but bootstrap.min.css set `[hidden] { display: none !important; }` so we also need the `!important` here to be able to override the default hidden behavior on the sphinx rendered scikit-learn.org. See: https://github.com/scikit-learn/scikit-learn/issues/21755 */display: inline-block !important;position: relative;}#sk-container-id-1 div.sk-text-repr-fallback {display: none;}</style><div id=\"sk-container-id-1\" class=\"sk-top-container\"><div class=\"sk-text-repr-fallback\"><pre>LinearRegression()</pre><b>In a Jupyter environment, please rerun this cell to show the HTML representation or trust the notebook. <br />On GitHub, the HTML representation is unable to render, please try loading this page with nbviewer.org.</b></div><div class=\"sk-container\" hidden><div class=\"sk-item\"><div class=\"sk-estimator sk-toggleable\"><input class=\"sk-toggleable__control sk-hidden--visually\" id=\"sk-estimator-id-1\" type=\"checkbox\" checked><label for=\"sk-estimator-id-1\" class=\"sk-toggleable__label sk-toggleable__label-arrow\">LinearRegression</label><div class=\"sk-toggleable__content\"><pre>LinearRegression()</pre></div></div></div></div></div>"
      ],
      "text/plain": [
       "LinearRegression()"
      ]
     },
     "execution_count": 32,
     "metadata": {},
     "output_type": "execute_result"
    }
   ],
   "source": [
    "x = calories.values.reshape(-1,1)\n",
    "y = fat.values.reshape(-1,1)\n",
    "regr.fit(x,y)"
   ]
  },
  {
   "cell_type": "code",
   "execution_count": 33,
   "id": "b8643012",
   "metadata": {},
   "outputs": [],
   "source": [
    "predicted_y = regr.predict(x)"
   ]
  },
  {
   "cell_type": "code",
   "execution_count": 34,
   "id": "e017ed07",
   "metadata": {},
   "outputs": [
    {
     "data": {
      "image/png": "[encoded data removed]",
      "text/plain": [
       "<Figure size 640x480 with 1 Axes>"
      ]
     },
     "metadata": {},
     "output_type": "display_data"
    }
   ],
   "source": [
    "plt.scatter(calories, fat, c = 'red', marker ='*')\n",
    "plt.plot(calories,predicted_y, linewidth='2')\n",
    "plt.show()"
   ]
  },
  {
   "cell_type": "code",
   "execution_count": 38,
   "id": "34b999e7",
   "metadata": {},
   "outputs": [
    {
     "data": {
      "text/plain": [
       "count    29.000000\n",
       "mean     30.037931\n",
       "std      18.204658\n",
       "min       0.000000\n",
       "25%      14.300000\n",
       "50%      27.400000\n",
       "75%      40.900000\n",
       "max      64.500000\n",
       "Name: Fat (g), dtype: float64"
      ]
     },
     "execution_count": 38,
     "metadata": {},
     "output_type": "execute_result"
    }
   ],
   "source": [
    "fat.describe()"
   ]
  },
  {
   "cell_type": "code",
   "execution_count": 13,
   "id": "6652db89",
   "metadata": {
    "scrolled": false
   },
   "outputs": [
    {
     "data": {
      "text/plain": [
       "<Axes: xlabel='Fat (g)', ylabel='Count'>"
      ]
     },
     "execution_count": 13,
     "metadata": {},
     "output_type": "execute_result"
    },
    {
     "data": {
      "image/png": "[encoded data removed]",
      "text/plain": [
       "<Figure size 640x480 with 1 Axes>"
      ]
     },
     "metadata": {},
     "output_type": "display_data"
    }
   ],
   "source": [
    "import seaborn as sns\n",
    "sns.histplot(fat)"
   ]
  },
  {
   "cell_type": "code",
   "execution_count": 14,
   "id": "81d91cb7",
   "metadata": {},
   "outputs": [
    {
     "data": {
      "text/plain": [
       "<Axes: xlabel='Fat (g)', ylabel='Count'>"
      ]
     },
     "execution_count": 14,
     "metadata": {},
     "output_type": "execute_result"
    },
    {
     "data": {
      "image/png": "[encoded data removed]",
      "text/plain": [
       "<Figure size 640x480 with 1 Axes>"
      ]
     },
     "metadata": {},
     "output_type": "display_data"
    }
   ],
   "source": [
    "sns.histplot(fat,binwidth=5)"
   ]
  },
  {
   "cell_type": "code",
   "execution_count": 15,
   "id": "ac9f3ee5",
   "metadata": {},
   "outputs": [],
   "source": [
    "avg_fats=np.mean(fat)\n",
    "med_fats=np.median(fat)"
   ]
  },
  {
   "cell_type": "code",
   "execution_count": 19,
   "id": "d766a28b",
   "metadata": {},
   "outputs": [
    {
     "data": {
      "text/plain": [
       "30.037931034482757"
      ]
     },
     "execution_count": 19,
     "metadata": {},
     "output_type": "execute_result"
    }
   ],
   "source": [
    "avg_fats"
   ]
  },
  {
   "cell_type": "code",
   "execution_count": 20,
   "id": "4ff8554c",
   "metadata": {},
   "outputs": [
    {
     "data": {
      "text/plain": [
       "27.4"
      ]
     },
     "execution_count": 20,
     "metadata": {},
     "output_type": "execute_result"
    }
   ],
   "source": [
    "med_fats"
   ]
  },
  {
   "cell_type": "code",
   "execution_count": 23,
   "id": "97cca5af",
   "metadata": {},
   "outputs": [
    {
     "data": {
      "text/plain": [
       "<Axes: xlabel='Fat (g)'>"
      ]
     },
     "execution_count": 23,
     "metadata": {},
     "output_type": "execute_result"
    },
    {
     "data": {
      "image/png": "[encoded data removed]",
      "text/plain": [
       "<Figure size 640x480 with 1 Axes>"
      ]
     },
     "metadata": {},
     "output_type": "display_data"
    }
   ],
   "source": [
    "sns.boxplot(x=fat)"
   ]
  },
  {
   "cell_type": "code",
   "execution_count": 24,
   "id": "8e202707",
   "metadata": {},
   "outputs": [
    {
     "data": {
      "text/plain": [
       "<Axes: xlabel='Fat (g)', ylabel='Count'>"
      ]
     },
     "execution_count": 24,
     "metadata": {},
     "output_type": "execute_result"
    },
    {
     "data": {
      "image/png": "[encoded data removed]",
      "text/plain": [
       "<Figure size 640x480 with 2 Axes>"
      ]
     },
     "metadata": {},
     "output_type": "display_data"
    }
   ],
   "source": [
    "f, (ax_box, ax_hist) = plt.subplots(2, sharex=True, gridspec_kw={'height_ratios':(.25,.75)})\n",
    "sns.boxplot(x=fat, ax = ax_box)\n",
    "sns.histplot(x=fat, ax = ax_hist)"
   ]
  },
  {
   "cell_type": "markdown",
   "id": "9748bc80",
   "metadata": {},
   "source": [
    "boxplot to find outliers/\n",
    "histplot to see mean,median,%25,%75/\n",
    "use skew and kurtosis to find std from histplot"
   ]
  },
  {
   "cell_type": "code",
   "execution_count": null,
   "id": "e0d3271f",
   "metadata": {},
   "outputs": [],
   "source": []
  }
 ],
 "metadata": {
  "kernelspec": {
   "display_name": "Python 3 (ipykernel)",
   "language": "python",
   "name": "python3"
  },
  "language_info": {
   "codemirror_mode": {
    "name": "ipython",
    "version": 3
   },
   "file_extension": ".py",
   "mimetype": "text/x-python",
   "name": "python",
   "nbconvert_exporter": "python",
   "pygments_lexer": "ipython3",
   "version": "3.11.4"
  }
 },
 "nbformat": 4,
 "nbformat_minor": 5
}
